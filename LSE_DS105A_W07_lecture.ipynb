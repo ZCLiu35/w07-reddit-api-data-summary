{
 "cells": [
  {
   "cell_type": "markdown",
   "metadata": {},
   "source": [
    "LSE Data Science Institute | DS105A (2023/24) | Week 07\n",
    "\n",
    "# 🗓️ Week 07: Data summarisation and the grammar of graphics\n",
    "\n",
    "Theme: Cleaning and reshaping data\n",
    "\n",
    "**LAST UPDATED:** 10 November 2023 9am\n",
    "\n",
    "**AUTHOR:** Dr [Jon Cardoso-Silva](https://jonjoncardoso.github.io)\n",
    "\n",
    "-----\n"
   ]
  },
  {
   "cell_type": "markdown",
   "metadata": {},
   "source": [
    "# **📚 PREPARATION**\n",
    "\n",
    "If you want to replicate the analysis in this notebook, you will need to:\n",
    "\n",
    "- Create a [Reddit account](https://www.reddit.com/register/)\n",
    "- Then, follow these [First Steps](https://github.com/reddit-archive/reddit/wiki/OAuth2-Quick-Start-Example#first-steps) to create an app and get your credentials.\n",
    "- Take note of your Reddit username and password, as well as the client ID and client secret of the app you created:\n",
    "\n",
    "    ![](./figures/screenshot_reddit_app_details.png)\n",
    "\n",
    "\n",
    "- Install the required packages (see below)\n",
    "\n",
    "    ```bash\n",
    "    pip install \"tqdm==4.65.0\" \"pandas>=2.1\" \"plotnine>0.12\" \"altair>=5\" \"pyaml>=6.0.1\" \"matplotlib>=3.7\"\n",
    "    ```\n",
    "- Install the [JSON Crack Extension](https://marketplace.visualstudio.com/items?itemName=AykutSarac.jsoncrack-vscode) for VS Code\n",
    "\n",
    "**🖇️ USEFUL LINKS:**\n",
    "\n",
    "- W3 Schools' [HTTP Request Methods](https://www.w3schools.com/tags/ref_httpmethods.asp) page\n",
    "- Reddit API's [documentation](https://www.reddit.com/dev/api)\n",
    "- 🐼 pandas' [`pd.json_normalize()` function documentation](https://pandas.pydata.org/pandas-docs/stable/reference/api/pandas.json_normalize.html)"
   ]
  },
  {
   "cell_type": "markdown",
   "metadata": {},
   "source": [
    "## ⚙️ Setup\n",
    "\n",
    "<div style=\"color:#f5f5f5\">I tend to follow a pattern when importing libraries\n",
    "\n",
    "- First, a block with pure imports (e.g. 'import requests')\n",
    "- Then imports with aliases (e.g. 'import pandas as pd')\n",
    "- Then imports of specific functions within a library 'from scrapy import Selector' (for when I don't need the whole library)\n",
    "\n",
    "I also like to arrange them in order of length (shorter first) because life is not simple enough already.\n",
    "\n",
    "</div>"
   ]
  },
  {
   "cell_type": "code",
   "execution_count": 1,
   "metadata": {},
   "outputs": [],
   "source": [
    "import os\n",
    "import json\n",
    "import requests\n",
    "\n",
    "import pandas as pd\n",
    "import matplotlib.pyplot as plt\n",
    "\n",
    "from pprint import pprint\n",
    "from scrapy import Selector\n",
    "from tqdm.notebook import tqdm"
   ]
  },
  {
   "cell_type": "markdown",
   "metadata": {},
   "source": [
    "# 1. Collecting data from an API\n",
    "\n",
    "So far, we have spent a reasonable amount of time gathering data via web scraping. We send requests to a web server, pretending to be a browser operating at the request of a human user, and then we reverse engineer the HTML code to extract the information we need. You are probably experts at this by now!\n",
    "\n",
    "**However, web scraping is not the only way to obtain data from the web; sometimes, it isn't even the best way!**\n",
    "\n",
    "Many websites, platforms and organisations offer **direct access** to their data via an API (**A**pplication **P**rogramming **I**nterface). I will illustrate the process by using the Reddit API."
   ]
  },
  {
   "cell_type": "markdown",
   "metadata": {},
   "source": [
    "## 1.1 First, an IMPORTANT detour: read credentials (passwords) from files\n",
    "\n",
    "To use the API, we need to provide several sensitive pieces of information:\n",
    "\n",
    "- your Reddit username (_do you want people to know it?_)\n",
    "- your Reddit password, in plain text (_do you want people to know it?_)\n",
    "- your Reddit app's client ID (_do you want anyone to send requests on your behalf?_)\n",
    "- your Reddit app's client secret (_do you want anyone to send requests on your behalf?_)\n",
    "\n",
    "If I leave this information in the notebook (on GitHub, especially), anyone reading it can impersonate me and send requests to Reddit on my behalf - a **serious security risk**.\n",
    "\n",
    "**NEVER leave your credentials anywhere in your GitHub repository or notebook!**\n",
    "\n",
    "--- \n",
    "\n",
    "🔊 Louder for those in the back:\n",
    "\n",
    "<div style=\"font-size:2em\">\n",
    "\n",
    "☣️ **NEVER leave your credentials anywhere in your GitHub repository or notebook!** ☣️\n",
    "\n",
    "Even if you delete it afterwards, it will still be in the repository's history, and ANYONE can access it.\n",
    "\n",
    "</div>\n",
    "\n",
    "---"
   ]
  },
  {
   "cell_type": "markdown",
   "metadata": {},
   "source": [
    "Therefore, I saved my credentials in a file called `credentials.json` with everything I will need. It looks like this:\n",
    "\n",
    "```json\n",
    "{\n",
    "    \"reddit_username\": \"<your Reddit username>\",\n",
    "    \"reddit_password\": \"<your Reddit password>\",\n",
    "    \"app_client_id\": \"<your Reddit app's client ID>\",\n",
    "    \"app_client_secret\": \"<your Reddit app's client secret>\"\n",
    "}\n",
    "```\n",
    "\n",
    "Then, I added `credentials.json` to my `.gitignore` file so that it is not tracked by GitHub. This way, I can read it from the notebook without exposing my credentials to the world:"
   ]
  },
  {
   "cell_type": "code",
   "execution_count": 2,
   "metadata": {},
   "outputs": [],
   "source": [
    "credentials_file_path = \"./credentials.json\"\n",
    "\n",
    "# open the file and load the data into a variable\n",
    "with open(credentials_file_path, \"r\") as f:\n",
    "    credentials = json.load(f)"
   ]
  },
  {
   "cell_type": "markdown",
   "metadata": {},
   "source": [
    "OK, now I took that out of the way, let's access the API!\n",
    "\n",
    "## 1.2 Obtain a Token\n",
    "\n",
    "The Reddit API requires, probably for security reasons, that we obtain an **access token** every time we access it via a script. We send a first request to a specific **API endpoint**[^1] in our credentials and get a string of characters, a token, that we can use to access the API for a limited amount of time. The code below shows how to do this in Python[^2].\n",
    "\n",
    "\n",
    "[^1]: An endpoint is like a URL that we can use to access a specific part of the API. You must always read the documentation to find out which endpoints are available and what they do.\n",
    "[^2]: The code in this section was adapted from Reddit's own [Python example code](https://github.com/reddit-archive/reddit/wiki/OAuth2-Quick-Start-Example#python-example)"
   ]
  },
  {
   "cell_type": "markdown",
   "metadata": {},
   "source": [
    "**Setup the credentials before sending the request**\n"
   ]
  },
  {
   "cell_type": "code",
   "execution_count": 6,
   "metadata": {},
   "outputs": [],
   "source": [
    "# We will still use the requests library, only this time we have to set up authentication parameters first\n",
    "client_auth = requests.auth.HTTPBasicAuth(credentials[\"app_client_id\"], credentials[\"app_client_secret\"])\n",
    "\n",
    "# You also need to send, via HTTP POST, your Reddit username and password.\n",
    "post_data = {\"grant_type\": \"password\", \"username\": credentials[\"reddit_username\"], \"password\": credentials[\"reddit_password\"]}\n",
    "\n",
    "# Just like Wikimedia, Reddit API also requests that we self-identify ourselves in the User-Agent.\n",
    "headers = {\"User-Agent\": f\"LSE DS105A API practice by {credentials['reddit_username']}\"}\n"
   ]
  },
  {
   "cell_type": "markdown",
   "metadata": {},
   "source": [
    "**Actually send the request**\n"
   ]
  },
  {
   "cell_type": "code",
   "execution_count": null,
   "metadata": {},
   "outputs": [],
   "source": [
    "# From their documentation, I learned this is the endpoint I need\n",
    "ACCESS_TOKEN_ENDPOINT = \"https://www.reddit.com/api/v1/access_token\"\n",
    "\n",
    "# This time we are sending a HTTP POST instead of a HTTP GET\n",
    "response = requests.post(ACCESS_TOKEN_ENDPOINT, auth=client_auth, data=post_data, headers=headers)\n",
    "response.json()"
   ]
  },
  {
   "cell_type": "markdown",
   "metadata": {},
   "source": [
    "If you configured everything correctly, you should get a response like this:\n",
    "\n",
    "```json\n",
    "{\n",
    "    \"access_token\": \"a_long_string_of_characters\",\n",
    "    \"token_type\": \"bearer\",\n",
    "    \"expires_in\": 86400, // in seconds\n",
    "    \"scope\": \"*\"\n",
    "}\n",
    "```"
   ]
  },
  {
   "cell_type": "markdown",
   "metadata": {},
   "source": [
    "Double-check: how long is that in hours?"
   ]
  },
  {
   "cell_type": "code",
   "execution_count": null,
   "metadata": {},
   "outputs": [],
   "source": [
    "86400 / (60 * 60)"
   ]
  },
  {
   "cell_type": "markdown",
   "metadata": {},
   "source": [
    "Let's save our token:"
   ]
  },
  {
   "cell_type": "code",
   "execution_count": 8,
   "metadata": {},
   "outputs": [],
   "source": [
    "my_token = response.json()['access_token']"
   ]
  },
  {
   "cell_type": "markdown",
   "metadata": {},
   "source": [
    "From now on, all my requests need to be followed by these HTTP HEADERS:"
   ]
  },
  {
   "cell_type": "code",
   "execution_count": 9,
   "metadata": {},
   "outputs": [],
   "source": [
    "headers = {\"Authorization\": f\"bearer {my_token}\", \"User-Agent\": f\"LSE DS105A API practice by {credentials['reddit_username']}\"}"
   ]
  },
  {
   "cell_type": "markdown",
   "metadata": {},
   "source": [
    "## 1.3 Send our first request with the token "
   ]
  },
  {
   "cell_type": "code",
   "execution_count": 10,
   "metadata": {},
   "outputs": [],
   "source": [
    "BASE_ENDPOINT = \"https://oauth.reddit.com\"\n",
    "\n",
    "response = requests.get(f\"{BASE_ENDPOINT}/top?limit=100\", headers=headers)"
   ]
  },
  {
   "cell_type": "code",
   "execution_count": null,
   "metadata": {},
   "outputs": [],
   "source": [
    "response.json()"
   ]
  },
  {
   "cell_type": "markdown",
   "metadata": {},
   "source": [
    "**How do we paginate?**\n",
    "\n",
    "From reading the [Reddit API documentation](https://www.reddit.com/dev/api), I learned that we have to use the `after` parameter to paginate. That is, after sending a request, I have to retrieve the `after` value from the response and use it in the next request. The code below shows how to do this."
   ]
  },
  {
   "cell_type": "code",
   "execution_count": 11,
   "metadata": {},
   "outputs": [
    {
     "data": {
      "text/plain": [
       "'t3_17pqb20'"
      ]
     },
     "execution_count": 11,
     "metadata": {},
     "output_type": "execute_result"
    }
   ],
   "source": [
    "# Obtain the data from the response\n",
    "data_page01 = response.json()\n",
    "\n",
    "# Get the ID of the last post\n",
    "after_id = data_page01['data']['after']\n",
    "after_id"
   ]
  },
  {
   "cell_type": "markdown",
   "metadata": {},
   "source": [
    "Now, I can send a new request to get the next 100 top posts (as of 7 November 2023):"
   ]
  },
  {
   "cell_type": "code",
   "execution_count": 12,
   "metadata": {},
   "outputs": [],
   "source": [
    "data_page02 = requests.get(f\"{BASE_ENDPOINT}/top?limit=100&after={after_id}\", headers=headers).json()"
   ]
  },
  {
   "cell_type": "code",
   "execution_count": 13,
   "metadata": {},
   "outputs": [
    {
     "data": {
      "text/plain": [
       "False"
      ]
     },
     "execution_count": 13,
     "metadata": {},
     "output_type": "execute_result"
    }
   ],
   "source": [
    "data_page01 == data_page02"
   ]
  },
  {
   "cell_type": "markdown",
   "metadata": {},
   "source": [
    "I could keep doing this:"
   ]
  },
  {
   "cell_type": "code",
   "execution_count": 14,
   "metadata": {},
   "outputs": [
    {
     "data": {
      "text/plain": [
       "'t3_17pzxy4'"
      ]
     },
     "execution_count": 14,
     "metadata": {},
     "output_type": "execute_result"
    }
   ],
   "source": [
    "data_page02['data']['after']"
   ]
  },
  {
   "cell_type": "markdown",
   "metadata": {},
   "source": [
    "<div style=\"width:70%;border: 1px solid #aaa; border-radius:1em; padding: 1em; margin: 1em 0;\">\n",
    "\n",
    "⚠️ **BIG WARNING!**\n",
    "\n",
    "As mentioned in the past, creating these variables 'by hand' (`data_page01`, `data_page02`, `data_page03`, ...) is a very bad practice in this context. We should use a loop instead, ideally combined with a custom function.\n",
    "\n",
    "</div>"
   ]
  },
  {
   "cell_type": "markdown",
   "metadata": {},
   "source": [
    "But let's stop here! Let me save those two JSON files and send them to you so that you can use them in the next section."
   ]
  },
  {
   "cell_type": "code",
   "execution_count": 15,
   "metadata": {},
   "outputs": [],
   "source": [
    "os.makedirs(\"data\", exist_ok=True)\n",
    "\n",
    "# Saving `data` to file called `reddit_page1.json`\n",
    "with open(\"data/reddit_page1.json\", \"w\") as f:\n",
    "    json.dump(data_page01, f)\n",
    "\n",
    "# Saving `data` to file called `reddit_page2.json`\n",
    "with open(\"data/reddit_page2.json\", \"w\") as f:\n",
    "    json.dump(data_page02, f)"
   ]
  },
  {
   "cell_type": "markdown",
   "metadata": {},
   "source": [
    "🎯 **ACTION POINTS:**\n",
    "\n",
    "Here is what I want from you:\n",
    "\n",
    "1. Load the two JSON file as Python dictionaries using the `json` package. Call them `data_page01` and `data_page02`.\n",
    "\n",
    "    💡 Tip: Check W04 Lecture notebook\n",
    "\n",
    "2. Instead of navigating the dictionaries manually, use the [`pd.json_normalize()` function](https://pandas.pydata.org/pandas-docs/stable/reference/api/pandas.json_normalize.html) to convert the `[data][children]` list of each JSON into a 🐼 pandas DataFrame. Call them `df_page01` and `df_page02`. \n",
    "\n",
    "    💡 Tip: Check out the parameter `max_level` of the `pd.json_normalize()` function in the documentation.\n",
    "\n",
    "3. Concatenate the two DataFrames into a single one using the [`pd.concat()` function](https://pandas.pydata.org/pandas-docs/stable/reference/api/pandas.concat.html). Call this `df_reddit`. Check that it has 200 rows.\n",
    "\n",
    "4. Let's not be wasteful! Delete the previous objects to clear up memory in your computer!\n",
    "\n",
    "    ```python\n",
    "    del data_page01, data_page02, df_page01, df_page02\n",
    "    ```\n",
    "\n",
    "**🥇 THE REAL CHALLENGE:**\n",
    "\n",
    "5. Preprocess `df_reddit` such that you end up with a DataFrame that has these exact columns:\n",
    "\n",
    "    ```python\n",
    "    ['id', 'title', 'permalink', 'post_hint',  'url', 'created_utc',            # Identifiers \n",
    "     'ups', 'downs', 'upvote_ratio', 'score',                                   # Votes\n",
    "     'subreddit_id', 'subreddit_name_prefixed', 'subreddit_subscribers',        # Which subreddit?\n",
    "     'over_18', 'num_comments', 'is_original_content', 'is_self', 'is_video',   # Post metadata\n",
    "     'author', 'author_fullname', 'author_premium',                             # Author metadata\n",
    "     'content_categories', 'edited', 'domain']                                  # Misc metadata\n",
    "    ```\n"
   ]
  },
  {
   "cell_type": "markdown",
   "metadata": {},
   "source": [
    "**YOUR SOLUTION**"
   ]
  },
  {
   "cell_type": "code",
   "execution_count": null,
   "metadata": {},
   "outputs": [],
   "source": []
  },
  {
   "cell_type": "markdown",
   "metadata": {},
   "source": [
    "# 2. Summarising and plotting data\n",
    "\n",
    "Once we have collected data, putting it into a nice and tidy tabular structure like the one we have now allows us to explore it more efficiently. The 🐼 `pandas` library has many built-in features that simplify summarising and visualising data stored as Data Frame objects.\n",
    "\n",
    "\n",
    "## 2.1 Summarising data\n",
    "\n",
    "When I say 'summarising', I mean to take data as an aggregate (a dataset) and calculate summary statistics. From simple counts (how many subreddits are represented in the Top 200 today?) to more complex statistics (the average number of comments per post?), we can use the `pandas` library to calculate them all.\n",
    "\n",
    "I like to frame this by imagining that I am **posing questions to my data**. \n",
    "\n",
    "Let's start simple and just look at what is in the first row of our DataFrame to search for inspiration. We will use the `.iloc[]` method for this[^3] :\n",
    "\n",
    "[^3]: iloc stands for 'index location' and allows us to select rows and columns by their **position** (not their name) in the DataFrame. Read more about it [here](https://pandas.pydata.org/pandas-docs/stable/reference/api/pandas.DataFrame.iloc.html)."
   ]
  },
  {
   "cell_type": "code",
   "execution_count": 17,
   "metadata": {},
   "outputs": [
    {
     "data": {
      "text/plain": [
       "id                                                                   17px794\n",
       "title                      On this day 3 years ago Rudy Giuliani held a p...\n",
       "post_hint                                                              image\n",
       "created_utc                                                     1699372007.0\n",
       "ups                                                                    70187\n",
       "downs                                                                      0\n",
       "upvote_ratio                                                            0.91\n",
       "score                                                                  70187\n",
       "subreddit_id                                                        t5_2qh0u\n",
       "subreddit_name_prefixed                                               r/pics\n",
       "subreddit_subscribers                                               30277898\n",
       "over_18                                                                False\n",
       "num_comments                                                            2580\n",
       "is_original_content                                                    False\n",
       "is_self                                                                False\n",
       "is_video                                                               False\n",
       "author                                                               ohnoh18\n",
       "author_fullname                                                  t2_3qo6zvfi\n",
       "author_premium                                                          True\n",
       "content_categories                                             [photography]\n",
       "edited                                                                 False\n",
       "domain                                                             i.redd.it\n",
       "Name: 0, dtype: object"
      ]
     },
     "execution_count": 17,
     "metadata": {},
     "output_type": "execute_result"
    }
   ],
   "source": [
    "df_reddit.iloc[0]"
   ]
  },
  {
   "cell_type": "markdown",
   "metadata": {},
   "source": [
    "### Question 01: How many subreddits are represented in the Top 200 today?\n",
    "\n",
    "From above, I see that the first row is about the subreddit `r/AskReddit`. \n",
    "\n",
    "If I didn't know any pandas, I could write a list comprehension to get the list of subreddits. Let me guide you through the thought process:"
   ]
  },
  {
   "cell_type": "code",
   "execution_count": 18,
   "metadata": {},
   "outputs": [
    {
     "data": {
      "text/plain": [
       "0               r/pics\n",
       "1      r/todayilearned\n",
       "2              r/funny\n",
       "3      r/todayilearned\n",
       "4                r/aww\n",
       "            ...       \n",
       "195             r/news\n",
       "196    r/OldSchoolCool\n",
       "197        r/worldnews\n",
       "198             r/news\n",
       "199      r/LifeProTips\n",
       "Name: subreddit_name_prefixed, Length: 200, dtype: object"
      ]
     },
     "execution_count": 18,
     "metadata": {},
     "output_type": "execute_result"
    }
   ],
   "source": [
    "# Thought 1: I know I can peek at the values of a particular column by using the [<COLUMN NAME>] operator\n",
    "df_reddit['subreddit_name_prefixed']"
   ]
  },
  {
   "cell_type": "markdown",
   "metadata": {},
   "source": [
    "\\#**THOUGHT 2**: Looking at the output above, I observe that the data type of this column is `object`, which means that `pandas` couldn't figure out the column's data type or that it is a string. Well, it makes sense that it is a string, as it is a subreddit name. Moving on...\n",
    "\n",
    "\\# **THOUGHT 3**: The way the output is printed on the screen does not match _exactly_ the same formatting I get when I print out pure Python lists. I wonder what the type of this object is..."
   ]
  },
  {
   "cell_type": "code",
   "execution_count": 19,
   "metadata": {},
   "outputs": [
    {
     "data": {
      "text/plain": [
       "pandas.core.series.Series"
      ]
     },
     "execution_count": 19,
     "metadata": {},
     "output_type": "execute_result"
    }
   ],
   "source": [
    "type(df_reddit['subreddit_name_prefixed'])"
   ]
  },
  {
   "cell_type": "markdown",
   "metadata": {},
   "source": [
    "\\#**THOUGHT 4:** Not sure I know what this means, but 2 seconds of Googling leads me to this specific part of the [pandas User Guide](https://pandas.pydata.org/pandas-docs/stable/user_guide/dsintro.html#basics-series) where they explain that this is a `pandas.Series` object:\n",
    "\n",
    "> [Series](https://pandas.pydata.org/pandas-docs/stable/reference/api/pandas.Series.html#pandas.Series) is a one-dimensional labeled array capable of holding any data type (integers, strings, floating point numbers, Python objects, etc.). The axis labels are collectively referred to as the index. \n"
   ]
  },
  {
   "cell_type": "markdown",
   "metadata": {},
   "source": [
    "\\#**THOUGHT 5:** Interestingly, the [documentation](https://pandas.pydata.org/pandas-docs/stable/reference/api/pandas.Series.html#pandas.Series) tells us that this object has many **attributes** and **methods**.\n",
    "\n",
    "One of them `.tolist()` seems useful to me as a not-yet-super-profficient `pandas` user. Let's try it out:"
   ]
  },
  {
   "cell_type": "code",
   "execution_count": 20,
   "metadata": {},
   "outputs": [
    {
     "data": {
      "text/plain": [
       "['r/pics',\n",
       " 'r/todayilearned',\n",
       " 'r/funny',\n",
       " 'r/todayilearned',\n",
       " 'r/aww',\n",
       " 'r/pics',\n",
       " 'r/funny',\n",
       " 'r/funny',\n",
       " 'r/worldnews',\n",
       " 'r/news',\n",
       " 'r/aww',\n",
       " 'r/funny',\n",
       " 'r/gaming',\n",
       " 'r/mildlyinteresting',\n",
       " 'r/pics',\n",
       " 'r/movies',\n",
       " 'r/mildlyinteresting',\n",
       " 'r/nottheonion',\n",
       " 'r/mildlyinteresting',\n",
       " 'r/UpliftingNews',\n",
       " 'r/todayilearned',\n",
       " 'r/mildlyinteresting',\n",
       " 'r/mildlyinteresting',\n",
       " 'r/aww',\n",
       " 'r/pics',\n",
       " 'r/news',\n",
       " 'r/gaming',\n",
       " 'r/news',\n",
       " 'r/mildlyinteresting',\n",
       " 'r/movies',\n",
       " 'r/todayilearned',\n",
       " 'r/funny',\n",
       " 'r/OldSchoolCool',\n",
       " 'r/AskReddit',\n",
       " 'r/gaming',\n",
       " 'r/science',\n",
       " 'r/news',\n",
       " 'r/AskReddit',\n",
       " 'r/mildlyinteresting',\n",
       " 'r/worldnews',\n",
       " 'r/pics',\n",
       " 'r/aww',\n",
       " 'r/todayilearned',\n",
       " 'r/TwoXChromosomes',\n",
       " 'r/AskReddit',\n",
       " 'r/pics',\n",
       " 'r/OldSchoolCool',\n",
       " 'r/Futurology',\n",
       " 'r/gadgets',\n",
       " 'r/worldnews',\n",
       " 'r/worldnews',\n",
       " 'r/worldnews',\n",
       " 'r/mildlyinteresting',\n",
       " 'r/AskReddit',\n",
       " 'r/OldSchoolCool',\n",
       " 'r/funny',\n",
       " 'r/science',\n",
       " 'r/funny',\n",
       " 'r/todayilearned',\n",
       " 'r/aww',\n",
       " 'r/gaming',\n",
       " 'r/aww',\n",
       " 'r/AskReddit',\n",
       " 'r/news',\n",
       " 'r/AskReddit',\n",
       " 'r/EarthPorn',\n",
       " 'r/gaming',\n",
       " 'r/AskReddit',\n",
       " 'r/gaming',\n",
       " 'r/funny',\n",
       " 'r/news',\n",
       " 'r/mildlyinteresting',\n",
       " 'r/OldSchoolCool',\n",
       " 'r/pics',\n",
       " 'r/explainlikeimfive',\n",
       " 'r/aww',\n",
       " 'r/worldnews',\n",
       " 'r/worldnews',\n",
       " 'r/nottheonion',\n",
       " 'r/pics',\n",
       " 'r/Showerthoughts',\n",
       " 'r/news',\n",
       " 'r/DIY',\n",
       " 'r/explainlikeimfive',\n",
       " 'r/aww',\n",
       " 'r/LifeProTips',\n",
       " 'r/gaming',\n",
       " 'r/worldnews',\n",
       " 'r/LifeProTips',\n",
       " 'r/worldnews',\n",
       " 'r/todayilearned',\n",
       " 'r/todayilearned',\n",
       " 'r/OldSchoolCool',\n",
       " 'r/aww',\n",
       " 'r/movies',\n",
       " 'r/Jokes',\n",
       " 'r/AskReddit',\n",
       " 'r/food',\n",
       " 'r/aww',\n",
       " 'r/worldnews',\n",
       " 'r/OldSchoolCool',\n",
       " 'r/nottheonion',\n",
       " 'r/sports',\n",
       " 'r/nottheonion',\n",
       " 'r/worldnews',\n",
       " 'r/funny',\n",
       " 'r/OldSchoolCool',\n",
       " 'r/Jokes',\n",
       " 'r/AskReddit',\n",
       " 'r/news',\n",
       " 'r/TwoXChromosomes',\n",
       " 'r/todayilearned',\n",
       " 'r/aww',\n",
       " 'r/gaming',\n",
       " 'r/mildlyinteresting',\n",
       " 'r/AskReddit',\n",
       " 'r/aww',\n",
       " 'r/dataisbeautiful',\n",
       " 'r/gifs',\n",
       " 'r/pics',\n",
       " 'r/news',\n",
       " 'r/nottheonion',\n",
       " 'r/Jokes',\n",
       " 'r/OldSchoolCool',\n",
       " 'r/news',\n",
       " 'r/pics',\n",
       " 'r/science',\n",
       " 'r/tifu',\n",
       " 'r/gadgets',\n",
       " 'r/nottheonion',\n",
       " 'r/worldnews',\n",
       " 'r/Futurology',\n",
       " 'r/worldnews',\n",
       " 'r/EarthPorn',\n",
       " 'r/EarthPorn',\n",
       " 'r/worldnews',\n",
       " 'r/nottheonion',\n",
       " 'r/news',\n",
       " 'r/science',\n",
       " 'r/news',\n",
       " 'r/gaming',\n",
       " 'r/mildlyinteresting',\n",
       " 'r/todayilearned',\n",
       " 'r/history',\n",
       " 'r/funny',\n",
       " 'r/Showerthoughts',\n",
       " 'r/news',\n",
       " 'r/science',\n",
       " 'r/aww',\n",
       " 'r/OldSchoolCool',\n",
       " 'r/explainlikeimfive',\n",
       " 'r/Jokes',\n",
       " 'r/TwoXChromosomes',\n",
       " 'r/science',\n",
       " 'r/OldSchoolCool',\n",
       " 'r/TwoXChromosomes',\n",
       " 'r/worldnews',\n",
       " 'r/science',\n",
       " 'r/tifu',\n",
       " 'r/UpliftingNews',\n",
       " 'r/gaming',\n",
       " 'r/todayilearned',\n",
       " 'r/DIY',\n",
       " 'r/todayilearned',\n",
       " 'r/LifeProTips',\n",
       " 'r/todayilearned',\n",
       " 'r/space',\n",
       " 'r/OldSchoolCool',\n",
       " 'r/aww',\n",
       " 'r/funny',\n",
       " 'r/movies',\n",
       " 'r/EarthPorn',\n",
       " 'r/books',\n",
       " 'r/funny',\n",
       " 'r/todayilearned',\n",
       " 'r/EarthPorn',\n",
       " 'r/Showerthoughts',\n",
       " 'r/news',\n",
       " 'r/AskReddit',\n",
       " 'r/todayilearned',\n",
       " 'r/news',\n",
       " 'r/funny',\n",
       " 'r/mildlyinteresting',\n",
       " 'r/movies',\n",
       " 'r/gaming',\n",
       " 'r/todayilearned',\n",
       " 'r/TwoXChromosomes',\n",
       " 'r/news',\n",
       " 'r/worldnews',\n",
       " 'r/worldnews',\n",
       " 'r/gaming',\n",
       " 'r/news',\n",
       " 'r/news',\n",
       " 'r/gaming',\n",
       " 'r/funny',\n",
       " 'r/news',\n",
       " 'r/OldSchoolCool',\n",
       " 'r/worldnews',\n",
       " 'r/news',\n",
       " 'r/LifeProTips']"
      ]
     },
     "execution_count": 20,
     "metadata": {},
     "output_type": "execute_result"
    }
   ],
   "source": [
    "# Great! This returns a pure Python list!\n",
    "df_reddit['subreddit_name_prefixed'].tolist()"
   ]
  },
  {
   "cell_type": "markdown",
   "metadata": {},
   "source": [
    "\\#**THOUGHT 6:** I remember that Python sets were a good way to store unique values from a list. Let me try:"
   ]
  },
  {
   "cell_type": "code",
   "execution_count": 21,
   "metadata": {},
   "outputs": [
    {
     "data": {
      "text/plain": [
       "{'r/AskReddit',\n",
       " 'r/DIY',\n",
       " 'r/EarthPorn',\n",
       " 'r/Futurology',\n",
       " 'r/Jokes',\n",
       " 'r/LifeProTips',\n",
       " 'r/OldSchoolCool',\n",
       " 'r/Showerthoughts',\n",
       " 'r/TwoXChromosomes',\n",
       " 'r/UpliftingNews',\n",
       " 'r/aww',\n",
       " 'r/books',\n",
       " 'r/dataisbeautiful',\n",
       " 'r/explainlikeimfive',\n",
       " 'r/food',\n",
       " 'r/funny',\n",
       " 'r/gadgets',\n",
       " 'r/gaming',\n",
       " 'r/gifs',\n",
       " 'r/history',\n",
       " 'r/mildlyinteresting',\n",
       " 'r/movies',\n",
       " 'r/news',\n",
       " 'r/nottheonion',\n",
       " 'r/pics',\n",
       " 'r/science',\n",
       " 'r/space',\n",
       " 'r/sports',\n",
       " 'r/tifu',\n",
       " 'r/todayilearned',\n",
       " 'r/worldnews'}"
      ]
     },
     "execution_count": 21,
     "metadata": {},
     "output_type": "execute_result"
    }
   ],
   "source": [
    "subreddits_list = df_reddit['subreddit_name_prefixed'].tolist()\n",
    "\n",
    "# These are all the unique subreddits in the 200 top posts\n",
    "set(subreddits_list)"
   ]
  },
  {
   "cell_type": "code",
   "execution_count": 22,
   "metadata": {},
   "outputs": [
    {
     "name": "stdout",
     "output_type": "stream",
     "text": [
      "There are 31 unique subreddits in the 200 top posts.\n"
     ]
    }
   ],
   "source": [
    "# My solution to the question therefore is:\n",
    "\n",
    "subreddits_list = df_reddit['subreddit_name_prefixed'].tolist()\n",
    "\n",
    "number_unique_subreddits = len(set(subreddits_list))\n",
    "\n",
    "print(f\"There are {number_unique_subreddits} unique subreddits in the 200 top posts.\")"
   ]
  },
  {
   "cell_type": "markdown",
   "metadata": {},
   "source": [
    "### (The pandas way) How many subreddits are represented in the Top 200 today?\n",
    "\n",
    "The type of data manipulation we did above is so common that `pandas`, a library **built for data analysis**, has built-in methods to perform it. There is no way to know all of them other than getting familiar with the library and reading, for example, the [`pandas` DataFrame documentation](https://pandas.pydata.org/pandas-docs/stable/reference/api/pandas.DataFrame.html).\n",
    "\n",
    "In this case, we can use the `.nunique()` method of the `subreddit_name_prefixed` column to get the list of unique subreddits:"
   ]
  },
  {
   "cell_type": "code",
   "execution_count": 23,
   "metadata": {},
   "outputs": [
    {
     "data": {
      "text/plain": [
       "31"
      ]
     },
     "execution_count": 23,
     "metadata": {},
     "output_type": "execute_result"
    }
   ],
   "source": [
    "df_reddit['subreddit_name_prefixed'].nunique()"
   ]
  },
  {
   "cell_type": "markdown",
   "metadata": {},
   "source": [
    "### Question 02: How many top posts are there in each subreddit?\n",
    "\n",
    "This can be easily solved in a one-line command using the `.value_counts()` method:"
   ]
  },
  {
   "cell_type": "code",
   "execution_count": 24,
   "metadata": {},
   "outputs": [
    {
     "data": {
      "text/plain": [
       "subreddit_name_prefixed\n",
       "r/news                 20\n",
       "r/worldnews            18\n",
       "r/todayilearned        16\n",
       "r/funny                14\n",
       "r/aww                  14\n",
       "r/gaming               13\n",
       "r/OldSchoolCool        12\n",
       "r/mildlyinteresting    12\n",
       "r/AskReddit            11\n",
       "r/pics                 10\n",
       "r/science               7\n",
       "r/nottheonion           7\n",
       "r/TwoXChromosomes       5\n",
       "r/movies                5\n",
       "r/EarthPorn             5\n",
       "r/LifeProTips           4\n",
       "r/Jokes                 4\n",
       "r/explainlikeimfive     3\n",
       "r/Showerthoughts        3\n",
       "r/tifu                  2\n",
       "r/Futurology            2\n",
       "r/DIY                   2\n",
       "r/gadgets               2\n",
       "r/UpliftingNews         2\n",
       "r/food                  1\n",
       "r/sports                1\n",
       "r/dataisbeautiful       1\n",
       "r/gifs                  1\n",
       "r/history               1\n",
       "r/space                 1\n",
       "r/books                 1\n",
       "Name: count, dtype: int64"
      ]
     },
     "execution_count": 24,
     "metadata": {},
     "output_type": "execute_result"
    }
   ],
   "source": [
    "# And it sorts the data in order of frequency by default!! \n",
    "# Imagine having to do this manually! \n",
    "# (The days of using for loops all the time are in the past!)\n",
    "df_reddit['subreddit_name_prefixed'].value_counts()"
   ]
  },
  {
   "cell_type": "markdown",
   "metadata": {},
   "source": [
    "If you read the [`DataFrame.value_counts()` documentation](https://pandas.pydata.org/pandas-docs/stable/reference/api/pandas.DataFrame.value_counts.html#pandas.DataFrame.value_counts), you will discover that you can control several aspects of the output, such as the sorting order, the number of rows, etc. For example, let's normalise the counts to get the percentage of posts in each subreddit:"
   ]
  },
  {
   "cell_type": "code",
   "execution_count": 25,
   "metadata": {},
   "outputs": [
    {
     "data": {
      "text/plain": [
       "subreddit_name_prefixed\n",
       "r/news                 0.100\n",
       "r/worldnews            0.090\n",
       "r/todayilearned        0.080\n",
       "r/funny                0.070\n",
       "r/aww                  0.070\n",
       "r/gaming               0.065\n",
       "r/OldSchoolCool        0.060\n",
       "r/mildlyinteresting    0.060\n",
       "r/AskReddit            0.055\n",
       "r/pics                 0.050\n",
       "r/science              0.035\n",
       "r/nottheonion          0.035\n",
       "r/TwoXChromosomes      0.025\n",
       "r/movies               0.025\n",
       "r/EarthPorn            0.025\n",
       "r/LifeProTips          0.020\n",
       "r/Jokes                0.020\n",
       "r/explainlikeimfive    0.015\n",
       "r/Showerthoughts       0.015\n",
       "r/tifu                 0.010\n",
       "r/Futurology           0.010\n",
       "r/DIY                  0.010\n",
       "r/gadgets              0.010\n",
       "r/UpliftingNews        0.010\n",
       "r/food                 0.005\n",
       "r/sports               0.005\n",
       "r/dataisbeautiful      0.005\n",
       "r/gifs                 0.005\n",
       "r/history              0.005\n",
       "r/space                0.005\n",
       "r/books                0.005\n",
       "Name: proportion, dtype: float64"
      ]
     },
     "execution_count": 25,
     "metadata": {},
     "output_type": "execute_result"
    }
   ],
   "source": [
    "df_reddit['subreddit_name_prefixed'].value_counts(normalize=True)"
   ]
  },
  {
   "cell_type": "markdown",
   "metadata": {},
   "source": [
    "Wait until you learn about [pandas Styler](https://pandas.pydata.org/pandas-docs/stable/user_guide/style.html)! It is a potent tool to format DataFrames for printing on the screen or exporting to HTML.\n",
    "\n",
    "Let me show you, for example, how to format normalised value counts as percentages:"
   ]
  },
  {
   "cell_type": "code",
   "execution_count": 26,
   "metadata": {},
   "outputs": [
    {
     "data": {
      "text/html": [
       "<style type=\"text/css\">\n",
       "</style>\n",
       "<table id=\"T_7050a\">\n",
       "  <thead>\n",
       "    <tr>\n",
       "      <th class=\"blank level0\" >&nbsp;</th>\n",
       "      <th id=\"T_7050a_level0_col0\" class=\"col_heading level0 col0\" >proportion</th>\n",
       "    </tr>\n",
       "    <tr>\n",
       "      <th class=\"index_name level0\" >subreddit_name_prefixed</th>\n",
       "      <th class=\"blank col0\" >&nbsp;</th>\n",
       "    </tr>\n",
       "  </thead>\n",
       "  <tbody>\n",
       "    <tr>\n",
       "      <th id=\"T_7050a_level0_row0\" class=\"row_heading level0 row0\" >r/news</th>\n",
       "      <td id=\"T_7050a_row0_col0\" class=\"data row0 col0\" >10.00%</td>\n",
       "    </tr>\n",
       "    <tr>\n",
       "      <th id=\"T_7050a_level0_row1\" class=\"row_heading level0 row1\" >r/worldnews</th>\n",
       "      <td id=\"T_7050a_row1_col0\" class=\"data row1 col0\" >9.00%</td>\n",
       "    </tr>\n",
       "    <tr>\n",
       "      <th id=\"T_7050a_level0_row2\" class=\"row_heading level0 row2\" >r/todayilearned</th>\n",
       "      <td id=\"T_7050a_row2_col0\" class=\"data row2 col0\" >8.00%</td>\n",
       "    </tr>\n",
       "    <tr>\n",
       "      <th id=\"T_7050a_level0_row3\" class=\"row_heading level0 row3\" >r/funny</th>\n",
       "      <td id=\"T_7050a_row3_col0\" class=\"data row3 col0\" >7.00%</td>\n",
       "    </tr>\n",
       "    <tr>\n",
       "      <th id=\"T_7050a_level0_row4\" class=\"row_heading level0 row4\" >r/aww</th>\n",
       "      <td id=\"T_7050a_row4_col0\" class=\"data row4 col0\" >7.00%</td>\n",
       "    </tr>\n",
       "    <tr>\n",
       "      <th id=\"T_7050a_level0_row5\" class=\"row_heading level0 row5\" >r/gaming</th>\n",
       "      <td id=\"T_7050a_row5_col0\" class=\"data row5 col0\" >6.50%</td>\n",
       "    </tr>\n",
       "    <tr>\n",
       "      <th id=\"T_7050a_level0_row6\" class=\"row_heading level0 row6\" >r/OldSchoolCool</th>\n",
       "      <td id=\"T_7050a_row6_col0\" class=\"data row6 col0\" >6.00%</td>\n",
       "    </tr>\n",
       "    <tr>\n",
       "      <th id=\"T_7050a_level0_row7\" class=\"row_heading level0 row7\" >r/mildlyinteresting</th>\n",
       "      <td id=\"T_7050a_row7_col0\" class=\"data row7 col0\" >6.00%</td>\n",
       "    </tr>\n",
       "    <tr>\n",
       "      <th id=\"T_7050a_level0_row8\" class=\"row_heading level0 row8\" >r/AskReddit</th>\n",
       "      <td id=\"T_7050a_row8_col0\" class=\"data row8 col0\" >5.50%</td>\n",
       "    </tr>\n",
       "    <tr>\n",
       "      <th id=\"T_7050a_level0_row9\" class=\"row_heading level0 row9\" >r/pics</th>\n",
       "      <td id=\"T_7050a_row9_col0\" class=\"data row9 col0\" >5.00%</td>\n",
       "    </tr>\n",
       "    <tr>\n",
       "      <th id=\"T_7050a_level0_row10\" class=\"row_heading level0 row10\" >r/science</th>\n",
       "      <td id=\"T_7050a_row10_col0\" class=\"data row10 col0\" >3.50%</td>\n",
       "    </tr>\n",
       "    <tr>\n",
       "      <th id=\"T_7050a_level0_row11\" class=\"row_heading level0 row11\" >r/nottheonion</th>\n",
       "      <td id=\"T_7050a_row11_col0\" class=\"data row11 col0\" >3.50%</td>\n",
       "    </tr>\n",
       "    <tr>\n",
       "      <th id=\"T_7050a_level0_row12\" class=\"row_heading level0 row12\" >r/TwoXChromosomes</th>\n",
       "      <td id=\"T_7050a_row12_col0\" class=\"data row12 col0\" >2.50%</td>\n",
       "    </tr>\n",
       "    <tr>\n",
       "      <th id=\"T_7050a_level0_row13\" class=\"row_heading level0 row13\" >r/movies</th>\n",
       "      <td id=\"T_7050a_row13_col0\" class=\"data row13 col0\" >2.50%</td>\n",
       "    </tr>\n",
       "    <tr>\n",
       "      <th id=\"T_7050a_level0_row14\" class=\"row_heading level0 row14\" >r/EarthPorn</th>\n",
       "      <td id=\"T_7050a_row14_col0\" class=\"data row14 col0\" >2.50%</td>\n",
       "    </tr>\n",
       "    <tr>\n",
       "      <th id=\"T_7050a_level0_row15\" class=\"row_heading level0 row15\" >r/LifeProTips</th>\n",
       "      <td id=\"T_7050a_row15_col0\" class=\"data row15 col0\" >2.00%</td>\n",
       "    </tr>\n",
       "    <tr>\n",
       "      <th id=\"T_7050a_level0_row16\" class=\"row_heading level0 row16\" >r/Jokes</th>\n",
       "      <td id=\"T_7050a_row16_col0\" class=\"data row16 col0\" >2.00%</td>\n",
       "    </tr>\n",
       "    <tr>\n",
       "      <th id=\"T_7050a_level0_row17\" class=\"row_heading level0 row17\" >r/explainlikeimfive</th>\n",
       "      <td id=\"T_7050a_row17_col0\" class=\"data row17 col0\" >1.50%</td>\n",
       "    </tr>\n",
       "    <tr>\n",
       "      <th id=\"T_7050a_level0_row18\" class=\"row_heading level0 row18\" >r/Showerthoughts</th>\n",
       "      <td id=\"T_7050a_row18_col0\" class=\"data row18 col0\" >1.50%</td>\n",
       "    </tr>\n",
       "    <tr>\n",
       "      <th id=\"T_7050a_level0_row19\" class=\"row_heading level0 row19\" >r/tifu</th>\n",
       "      <td id=\"T_7050a_row19_col0\" class=\"data row19 col0\" >1.00%</td>\n",
       "    </tr>\n",
       "    <tr>\n",
       "      <th id=\"T_7050a_level0_row20\" class=\"row_heading level0 row20\" >r/Futurology</th>\n",
       "      <td id=\"T_7050a_row20_col0\" class=\"data row20 col0\" >1.00%</td>\n",
       "    </tr>\n",
       "    <tr>\n",
       "      <th id=\"T_7050a_level0_row21\" class=\"row_heading level0 row21\" >r/DIY</th>\n",
       "      <td id=\"T_7050a_row21_col0\" class=\"data row21 col0\" >1.00%</td>\n",
       "    </tr>\n",
       "    <tr>\n",
       "      <th id=\"T_7050a_level0_row22\" class=\"row_heading level0 row22\" >r/gadgets</th>\n",
       "      <td id=\"T_7050a_row22_col0\" class=\"data row22 col0\" >1.00%</td>\n",
       "    </tr>\n",
       "    <tr>\n",
       "      <th id=\"T_7050a_level0_row23\" class=\"row_heading level0 row23\" >r/UpliftingNews</th>\n",
       "      <td id=\"T_7050a_row23_col0\" class=\"data row23 col0\" >1.00%</td>\n",
       "    </tr>\n",
       "    <tr>\n",
       "      <th id=\"T_7050a_level0_row24\" class=\"row_heading level0 row24\" >r/food</th>\n",
       "      <td id=\"T_7050a_row24_col0\" class=\"data row24 col0\" >0.50%</td>\n",
       "    </tr>\n",
       "    <tr>\n",
       "      <th id=\"T_7050a_level0_row25\" class=\"row_heading level0 row25\" >r/sports</th>\n",
       "      <td id=\"T_7050a_row25_col0\" class=\"data row25 col0\" >0.50%</td>\n",
       "    </tr>\n",
       "    <tr>\n",
       "      <th id=\"T_7050a_level0_row26\" class=\"row_heading level0 row26\" >r/dataisbeautiful</th>\n",
       "      <td id=\"T_7050a_row26_col0\" class=\"data row26 col0\" >0.50%</td>\n",
       "    </tr>\n",
       "    <tr>\n",
       "      <th id=\"T_7050a_level0_row27\" class=\"row_heading level0 row27\" >r/gifs</th>\n",
       "      <td id=\"T_7050a_row27_col0\" class=\"data row27 col0\" >0.50%</td>\n",
       "    </tr>\n",
       "    <tr>\n",
       "      <th id=\"T_7050a_level0_row28\" class=\"row_heading level0 row28\" >r/history</th>\n",
       "      <td id=\"T_7050a_row28_col0\" class=\"data row28 col0\" >0.50%</td>\n",
       "    </tr>\n",
       "    <tr>\n",
       "      <th id=\"T_7050a_level0_row29\" class=\"row_heading level0 row29\" >r/space</th>\n",
       "      <td id=\"T_7050a_row29_col0\" class=\"data row29 col0\" >0.50%</td>\n",
       "    </tr>\n",
       "    <tr>\n",
       "      <th id=\"T_7050a_level0_row30\" class=\"row_heading level0 row30\" >r/books</th>\n",
       "      <td id=\"T_7050a_row30_col0\" class=\"data row30 col0\" >0.50%</td>\n",
       "    </tr>\n",
       "  </tbody>\n",
       "</table>\n"
      ],
      "text/plain": [
       "<pandas.io.formats.style.Styler at 0x2c48ff310>"
      ]
     },
     "execution_count": 26,
     "metadata": {},
     "output_type": "execute_result"
    }
   ],
   "source": [
    "# I am using these parenthesis to give my code some breathing space\n",
    "(\n",
    "    df_reddit['subreddit_name_prefixed'].value_counts(normalize=True)\n",
    "        .to_frame()             # Styler is a DataFrame method, so I have to convert this Series into a DataFrame\n",
    "        .style.format(\"{:.2%}\") # This formats the values as percentages\n",
    ")"
   ]
  },
  {
   "cell_type": "code",
   "execution_count": 27,
   "metadata": {},
   "outputs": [
    {
     "data": {
      "text/html": [
       "<style type=\"text/css\">\n",
       "#T_f8705_row0_col0 {\n",
       "  background-color: #08306b;\n",
       "  color: #f1f1f1;\n",
       "}\n",
       "#T_f8705_row1_col0 {\n",
       "  background-color: #084b93;\n",
       "  color: #f1f1f1;\n",
       "}\n",
       "#T_f8705_row2_col0 {\n",
       "  background-color: #1966ad;\n",
       "  color: #f1f1f1;\n",
       "}\n",
       "#T_f8705_row3_col0, #T_f8705_row4_col0 {\n",
       "  background-color: #3282be;\n",
       "  color: #f1f1f1;\n",
       "}\n",
       "#T_f8705_row5_col0 {\n",
       "  background-color: #4090c5;\n",
       "  color: #f1f1f1;\n",
       "}\n",
       "#T_f8705_row6_col0, #T_f8705_row7_col0 {\n",
       "  background-color: #519ccc;\n",
       "  color: #f1f1f1;\n",
       "}\n",
       "#T_f8705_row8_col0 {\n",
       "  background-color: #63a8d3;\n",
       "  color: #f1f1f1;\n",
       "}\n",
       "#T_f8705_row9_col0 {\n",
       "  background-color: #75b4d8;\n",
       "  color: #000000;\n",
       "}\n",
       "#T_f8705_row10_col0, #T_f8705_row11_col0 {\n",
       "  background-color: #b2d2e8;\n",
       "  color: #000000;\n",
       "}\n",
       "#T_f8705_row12_col0, #T_f8705_row13_col0, #T_f8705_row14_col0 {\n",
       "  background-color: #cee0f2;\n",
       "  color: #000000;\n",
       "}\n",
       "#T_f8705_row15_col0, #T_f8705_row16_col0 {\n",
       "  background-color: #d8e7f5;\n",
       "  color: #000000;\n",
       "}\n",
       "#T_f8705_row17_col0, #T_f8705_row18_col0 {\n",
       "  background-color: #e3eef8;\n",
       "  color: #000000;\n",
       "}\n",
       "#T_f8705_row19_col0, #T_f8705_row20_col0, #T_f8705_row21_col0, #T_f8705_row22_col0, #T_f8705_row23_col0 {\n",
       "  background-color: #edf4fc;\n",
       "  color: #000000;\n",
       "}\n",
       "#T_f8705_row24_col0, #T_f8705_row25_col0, #T_f8705_row26_col0, #T_f8705_row27_col0, #T_f8705_row28_col0, #T_f8705_row29_col0, #T_f8705_row30_col0 {\n",
       "  background-color: #f7fbff;\n",
       "  color: #000000;\n",
       "}\n",
       "</style>\n",
       "<table id=\"T_f8705\">\n",
       "  <thead>\n",
       "    <tr>\n",
       "      <th class=\"blank level0\" >&nbsp;</th>\n",
       "      <th id=\"T_f8705_level0_col0\" class=\"col_heading level0 col0\" >proportion</th>\n",
       "    </tr>\n",
       "    <tr>\n",
       "      <th class=\"index_name level0\" >subreddit_name_prefixed</th>\n",
       "      <th class=\"blank col0\" >&nbsp;</th>\n",
       "    </tr>\n",
       "  </thead>\n",
       "  <tbody>\n",
       "    <tr>\n",
       "      <th id=\"T_f8705_level0_row0\" class=\"row_heading level0 row0\" >r/news</th>\n",
       "      <td id=\"T_f8705_row0_col0\" class=\"data row0 col0\" >10.00%</td>\n",
       "    </tr>\n",
       "    <tr>\n",
       "      <th id=\"T_f8705_level0_row1\" class=\"row_heading level0 row1\" >r/worldnews</th>\n",
       "      <td id=\"T_f8705_row1_col0\" class=\"data row1 col0\" >9.00%</td>\n",
       "    </tr>\n",
       "    <tr>\n",
       "      <th id=\"T_f8705_level0_row2\" class=\"row_heading level0 row2\" >r/todayilearned</th>\n",
       "      <td id=\"T_f8705_row2_col0\" class=\"data row2 col0\" >8.00%</td>\n",
       "    </tr>\n",
       "    <tr>\n",
       "      <th id=\"T_f8705_level0_row3\" class=\"row_heading level0 row3\" >r/funny</th>\n",
       "      <td id=\"T_f8705_row3_col0\" class=\"data row3 col0\" >7.00%</td>\n",
       "    </tr>\n",
       "    <tr>\n",
       "      <th id=\"T_f8705_level0_row4\" class=\"row_heading level0 row4\" >r/aww</th>\n",
       "      <td id=\"T_f8705_row4_col0\" class=\"data row4 col0\" >7.00%</td>\n",
       "    </tr>\n",
       "    <tr>\n",
       "      <th id=\"T_f8705_level0_row5\" class=\"row_heading level0 row5\" >r/gaming</th>\n",
       "      <td id=\"T_f8705_row5_col0\" class=\"data row5 col0\" >6.50%</td>\n",
       "    </tr>\n",
       "    <tr>\n",
       "      <th id=\"T_f8705_level0_row6\" class=\"row_heading level0 row6\" >r/OldSchoolCool</th>\n",
       "      <td id=\"T_f8705_row6_col0\" class=\"data row6 col0\" >6.00%</td>\n",
       "    </tr>\n",
       "    <tr>\n",
       "      <th id=\"T_f8705_level0_row7\" class=\"row_heading level0 row7\" >r/mildlyinteresting</th>\n",
       "      <td id=\"T_f8705_row7_col0\" class=\"data row7 col0\" >6.00%</td>\n",
       "    </tr>\n",
       "    <tr>\n",
       "      <th id=\"T_f8705_level0_row8\" class=\"row_heading level0 row8\" >r/AskReddit</th>\n",
       "      <td id=\"T_f8705_row8_col0\" class=\"data row8 col0\" >5.50%</td>\n",
       "    </tr>\n",
       "    <tr>\n",
       "      <th id=\"T_f8705_level0_row9\" class=\"row_heading level0 row9\" >r/pics</th>\n",
       "      <td id=\"T_f8705_row9_col0\" class=\"data row9 col0\" >5.00%</td>\n",
       "    </tr>\n",
       "    <tr>\n",
       "      <th id=\"T_f8705_level0_row10\" class=\"row_heading level0 row10\" >r/science</th>\n",
       "      <td id=\"T_f8705_row10_col0\" class=\"data row10 col0\" >3.50%</td>\n",
       "    </tr>\n",
       "    <tr>\n",
       "      <th id=\"T_f8705_level0_row11\" class=\"row_heading level0 row11\" >r/nottheonion</th>\n",
       "      <td id=\"T_f8705_row11_col0\" class=\"data row11 col0\" >3.50%</td>\n",
       "    </tr>\n",
       "    <tr>\n",
       "      <th id=\"T_f8705_level0_row12\" class=\"row_heading level0 row12\" >r/TwoXChromosomes</th>\n",
       "      <td id=\"T_f8705_row12_col0\" class=\"data row12 col0\" >2.50%</td>\n",
       "    </tr>\n",
       "    <tr>\n",
       "      <th id=\"T_f8705_level0_row13\" class=\"row_heading level0 row13\" >r/movies</th>\n",
       "      <td id=\"T_f8705_row13_col0\" class=\"data row13 col0\" >2.50%</td>\n",
       "    </tr>\n",
       "    <tr>\n",
       "      <th id=\"T_f8705_level0_row14\" class=\"row_heading level0 row14\" >r/EarthPorn</th>\n",
       "      <td id=\"T_f8705_row14_col0\" class=\"data row14 col0\" >2.50%</td>\n",
       "    </tr>\n",
       "    <tr>\n",
       "      <th id=\"T_f8705_level0_row15\" class=\"row_heading level0 row15\" >r/LifeProTips</th>\n",
       "      <td id=\"T_f8705_row15_col0\" class=\"data row15 col0\" >2.00%</td>\n",
       "    </tr>\n",
       "    <tr>\n",
       "      <th id=\"T_f8705_level0_row16\" class=\"row_heading level0 row16\" >r/Jokes</th>\n",
       "      <td id=\"T_f8705_row16_col0\" class=\"data row16 col0\" >2.00%</td>\n",
       "    </tr>\n",
       "    <tr>\n",
       "      <th id=\"T_f8705_level0_row17\" class=\"row_heading level0 row17\" >r/explainlikeimfive</th>\n",
       "      <td id=\"T_f8705_row17_col0\" class=\"data row17 col0\" >1.50%</td>\n",
       "    </tr>\n",
       "    <tr>\n",
       "      <th id=\"T_f8705_level0_row18\" class=\"row_heading level0 row18\" >r/Showerthoughts</th>\n",
       "      <td id=\"T_f8705_row18_col0\" class=\"data row18 col0\" >1.50%</td>\n",
       "    </tr>\n",
       "    <tr>\n",
       "      <th id=\"T_f8705_level0_row19\" class=\"row_heading level0 row19\" >r/tifu</th>\n",
       "      <td id=\"T_f8705_row19_col0\" class=\"data row19 col0\" >1.00%</td>\n",
       "    </tr>\n",
       "    <tr>\n",
       "      <th id=\"T_f8705_level0_row20\" class=\"row_heading level0 row20\" >r/Futurology</th>\n",
       "      <td id=\"T_f8705_row20_col0\" class=\"data row20 col0\" >1.00%</td>\n",
       "    </tr>\n",
       "    <tr>\n",
       "      <th id=\"T_f8705_level0_row21\" class=\"row_heading level0 row21\" >r/DIY</th>\n",
       "      <td id=\"T_f8705_row21_col0\" class=\"data row21 col0\" >1.00%</td>\n",
       "    </tr>\n",
       "    <tr>\n",
       "      <th id=\"T_f8705_level0_row22\" class=\"row_heading level0 row22\" >r/gadgets</th>\n",
       "      <td id=\"T_f8705_row22_col0\" class=\"data row22 col0\" >1.00%</td>\n",
       "    </tr>\n",
       "    <tr>\n",
       "      <th id=\"T_f8705_level0_row23\" class=\"row_heading level0 row23\" >r/UpliftingNews</th>\n",
       "      <td id=\"T_f8705_row23_col0\" class=\"data row23 col0\" >1.00%</td>\n",
       "    </tr>\n",
       "    <tr>\n",
       "      <th id=\"T_f8705_level0_row24\" class=\"row_heading level0 row24\" >r/food</th>\n",
       "      <td id=\"T_f8705_row24_col0\" class=\"data row24 col0\" >0.50%</td>\n",
       "    </tr>\n",
       "    <tr>\n",
       "      <th id=\"T_f8705_level0_row25\" class=\"row_heading level0 row25\" >r/sports</th>\n",
       "      <td id=\"T_f8705_row25_col0\" class=\"data row25 col0\" >0.50%</td>\n",
       "    </tr>\n",
       "    <tr>\n",
       "      <th id=\"T_f8705_level0_row26\" class=\"row_heading level0 row26\" >r/dataisbeautiful</th>\n",
       "      <td id=\"T_f8705_row26_col0\" class=\"data row26 col0\" >0.50%</td>\n",
       "    </tr>\n",
       "    <tr>\n",
       "      <th id=\"T_f8705_level0_row27\" class=\"row_heading level0 row27\" >r/gifs</th>\n",
       "      <td id=\"T_f8705_row27_col0\" class=\"data row27 col0\" >0.50%</td>\n",
       "    </tr>\n",
       "    <tr>\n",
       "      <th id=\"T_f8705_level0_row28\" class=\"row_heading level0 row28\" >r/history</th>\n",
       "      <td id=\"T_f8705_row28_col0\" class=\"data row28 col0\" >0.50%</td>\n",
       "    </tr>\n",
       "    <tr>\n",
       "      <th id=\"T_f8705_level0_row29\" class=\"row_heading level0 row29\" >r/space</th>\n",
       "      <td id=\"T_f8705_row29_col0\" class=\"data row29 col0\" >0.50%</td>\n",
       "    </tr>\n",
       "    <tr>\n",
       "      <th id=\"T_f8705_level0_row30\" class=\"row_heading level0 row30\" >r/books</th>\n",
       "      <td id=\"T_f8705_row30_col0\" class=\"data row30 col0\" >0.50%</td>\n",
       "    </tr>\n",
       "  </tbody>\n",
       "</table>\n"
      ],
      "text/plain": [
       "<pandas.io.formats.style.Styler at 0x2c5042950>"
      ]
     },
     "execution_count": 27,
     "metadata": {},
     "output_type": "execute_result"
    }
   ],
   "source": [
    "# Better yet, I can colour the cells based on their values\n",
    "(\n",
    "    df_reddit['subreddit_name_prefixed'].value_counts(normalize=True)\n",
    "        .to_frame()             \n",
    "        .style.format(\"{:.2%}\") \n",
    "        .background_gradient(cmap='Blues') # I can keep on compounding (piping) styling methods!\n",
    ")"
   ]
  },
  {
   "cell_type": "markdown",
   "metadata": {},
   "source": [
    "### Question 03: how many upvotes did these top posts get on average?\n",
    "\n",
    "My question can be answered by looking at the `ups` column. I could use the `.mean()` method to calculate the average number of upvotes:"
   ]
  },
  {
   "cell_type": "code",
   "execution_count": 28,
   "metadata": {},
   "outputs": [
    {
     "data": {
      "text/plain": [
       "4753.415"
      ]
     },
     "execution_count": 28,
     "metadata": {},
     "output_type": "execute_result"
    }
   ],
   "source": [
    "df_reddit['ups'].mean()"
   ]
  },
  {
   "cell_type": "markdown",
   "metadata": {},
   "source": [
    "The mean might not tell me everything. I need to get a statistical sense of the variation in the data. One easy way to calculate several summary statistics at once is to use the `.describe()` method:"
   ]
  },
  {
   "cell_type": "code",
   "execution_count": 29,
   "metadata": {},
   "outputs": [
    {
     "data": {
      "text/plain": [
       "count      200.000000\n",
       "mean      4753.415000\n",
       "std       7124.715772\n",
       "min        752.000000\n",
       "25%       1309.500000\n",
       "50%       2343.500000\n",
       "75%       4816.250000\n",
       "max      70187.000000\n",
       "Name: ups, dtype: float64"
      ]
     },
     "execution_count": 29,
     "metadata": {},
     "output_type": "execute_result"
    }
   ],
   "source": [
    "df_reddit['ups'].describe()"
   ]
  },
  {
   "cell_type": "markdown",
   "metadata": {},
   "source": [
    "By browsing the examples in the [documentation of the `.describe()` method](https://pandas.pydata.org/pandas-docs/stable/reference/api/pandas.DataFrame.describe.html), I can see that this method is also available for DataFrames. Therefore, I could select multiple numerical columns and get a summary of their statistics in one go: "
   ]
  },
  {
   "cell_type": "code",
   "execution_count": 30,
   "metadata": {},
   "outputs": [
    {
     "data": {
      "text/html": [
       "<div>\n",
       "<style scoped>\n",
       "    .dataframe tbody tr th:only-of-type {\n",
       "        vertical-align: middle;\n",
       "    }\n",
       "\n",
       "    .dataframe tbody tr th {\n",
       "        vertical-align: top;\n",
       "    }\n",
       "\n",
       "    .dataframe thead th {\n",
       "        text-align: right;\n",
       "    }\n",
       "</style>\n",
       "<table border=\"1\" class=\"dataframe\">\n",
       "  <thead>\n",
       "    <tr style=\"text-align: right;\">\n",
       "      <th></th>\n",
       "      <th>ups</th>\n",
       "      <th>downs</th>\n",
       "      <th>upvote_ratio</th>\n",
       "      <th>score</th>\n",
       "      <th>num_comments</th>\n",
       "    </tr>\n",
       "  </thead>\n",
       "  <tbody>\n",
       "    <tr>\n",
       "      <th>count</th>\n",
       "      <td>200.000000</td>\n",
       "      <td>200.0</td>\n",
       "      <td>200.000000</td>\n",
       "      <td>200.000000</td>\n",
       "      <td>200.000000</td>\n",
       "    </tr>\n",
       "    <tr>\n",
       "      <th>mean</th>\n",
       "      <td>4753.415000</td>\n",
       "      <td>0.0</td>\n",
       "      <td>0.935350</td>\n",
       "      <td>4753.415000</td>\n",
       "      <td>597.425000</td>\n",
       "    </tr>\n",
       "    <tr>\n",
       "      <th>std</th>\n",
       "      <td>7124.715772</td>\n",
       "      <td>0.0</td>\n",
       "      <td>0.046613</td>\n",
       "      <td>7124.715772</td>\n",
       "      <td>1331.908396</td>\n",
       "    </tr>\n",
       "    <tr>\n",
       "      <th>min</th>\n",
       "      <td>752.000000</td>\n",
       "      <td>0.0</td>\n",
       "      <td>0.770000</td>\n",
       "      <td>752.000000</td>\n",
       "      <td>6.000000</td>\n",
       "    </tr>\n",
       "    <tr>\n",
       "      <th>25%</th>\n",
       "      <td>1309.500000</td>\n",
       "      <td>0.0</td>\n",
       "      <td>0.920000</td>\n",
       "      <td>1309.500000</td>\n",
       "      <td>75.750000</td>\n",
       "    </tr>\n",
       "    <tr>\n",
       "      <th>50%</th>\n",
       "      <td>2343.500000</td>\n",
       "      <td>0.0</td>\n",
       "      <td>0.950000</td>\n",
       "      <td>2343.500000</td>\n",
       "      <td>187.000000</td>\n",
       "    </tr>\n",
       "    <tr>\n",
       "      <th>75%</th>\n",
       "      <td>4816.250000</td>\n",
       "      <td>0.0</td>\n",
       "      <td>0.970000</td>\n",
       "      <td>4816.250000</td>\n",
       "      <td>540.250000</td>\n",
       "    </tr>\n",
       "    <tr>\n",
       "      <th>max</th>\n",
       "      <td>70187.000000</td>\n",
       "      <td>0.0</td>\n",
       "      <td>1.000000</td>\n",
       "      <td>70187.000000</td>\n",
       "      <td>11012.000000</td>\n",
       "    </tr>\n",
       "  </tbody>\n",
       "</table>\n",
       "</div>"
      ],
      "text/plain": [
       "                ups  downs  upvote_ratio         score  num_comments\n",
       "count    200.000000  200.0    200.000000    200.000000    200.000000\n",
       "mean    4753.415000    0.0      0.935350   4753.415000    597.425000\n",
       "std     7124.715772    0.0      0.046613   7124.715772   1331.908396\n",
       "min      752.000000    0.0      0.770000    752.000000      6.000000\n",
       "25%     1309.500000    0.0      0.920000   1309.500000     75.750000\n",
       "50%     2343.500000    0.0      0.950000   2343.500000    187.000000\n",
       "75%     4816.250000    0.0      0.970000   4816.250000    540.250000\n",
       "max    70187.000000    0.0      1.000000  70187.000000  11012.000000"
      ]
     },
     "execution_count": 30,
     "metadata": {},
     "output_type": "execute_result"
    }
   ],
   "source": [
    "# Why are there no downvotes!? (No idea)\n",
    "df_reddit[['ups', 'downs', 'upvote_ratio', 'score', 'num_comments']].describe()"
   ]
  },
  {
   "cell_type": "markdown",
   "metadata": {},
   "source": [
    "**pandas have some quick and dirty [plotting methods](https://pandas.pydata.org/pandas-docs/stable/user_guide/visualization.html#visualization) too!**"
   ]
  },
  {
   "cell_type": "code",
   "execution_count": 31,
   "metadata": {},
   "outputs": [
    {
     "data": {
      "text/plain": [
       "<Axes: >"
      ]
     },
     "execution_count": 31,
     "metadata": {},
     "output_type": "execute_result"
    },
    {
     "data": {
      "image/png": "[encoded data removed]",
      "text/plain": [
       "<Figure size 640x480 with 1 Axes>"
      ]
     },
     "metadata": {},
     "output_type": "display_data"
    }
   ],
   "source": [
    "df_reddit['ups'].hist()"
   ]
  },
  {
   "cell_type": "code",
   "execution_count": 32,
   "metadata": {},
   "outputs": [
    {
     "data": {
      "text/plain": [
       "<Axes: >"
      ]
     },
     "execution_count": 32,
     "metadata": {},
     "output_type": "execute_result"
    },
    {
     "data": {
      "image/png": "[encoded data removed]",
      "text/plain": [
       "<Figure size 640x480 with 1 Axes>"
      ]
     },
     "metadata": {},
     "output_type": "display_data"
    }
   ],
   "source": [
    "# You can specify the type of plot you want to use\n",
    "df_reddit['ups'].plot(kind='box')"
   ]
  },
  {
   "cell_type": "code",
   "execution_count": 33,
   "metadata": {},
   "outputs": [
    {
     "data": {
      "text/plain": [
       "<Axes: >"
      ]
     },
     "execution_count": 33,
     "metadata": {},
     "output_type": "execute_result"
    },
    {
     "data": {
      "image/png": "[encoded data removed]",
      "text/plain": [
       "<Figure size 640x480 with 1 Axes>"
      ]
     },
     "metadata": {},
     "output_type": "display_data"
    }
   ],
   "source": [
    "# Plot works for DataFrame objects too!\n",
    "df_reddit[['ups', 'num_comments']].plot(kind='box')"
   ]
  },
  {
   "cell_type": "markdown",
   "metadata": {},
   "source": [
    "### What are the questions YOU want to pose to this data?"
   ]
  },
  {
   "cell_type": "code",
   "execution_count": null,
   "metadata": {},
   "outputs": [],
   "source": []
  },
  {
   "cell_type": "markdown",
   "metadata": {},
   "source": [
    "## 2.2 Grammar of graphics\n",
    "\n",
    "The `pandas` library is excellent for summarising data but not the best for plotting.\n",
    "\n",
    "In this course, we will adopt a different approach to plotting. Instead of using the `pandas` plotting methods (or even the ubiquitous `matplotlib` library), we will use libraries that adhere to the [Grammar of Graphics](https://www.springer.com/gp/book/9780387245447) framework.\n",
    "\n",
    "The Grammar of Graphics is **a powerful way of thinking about data visualisation**. It is a framework that allows us to think about data visualisation as a **layering of components**. Each component is a **mapping** between a **variable** and an **aesthetic**.\n",
    "\n",
    "- **Variables** are the columns of our DataFrame. They are the data we want to visualise.\n",
    "- **Aesthetics** are the visual properties of the plot. They are the way we want to visualise the data.\n",
    "- **Mappings** are the links between variables and aesthetics. They are the way we want to visualise the data.\n",
    "- **Layers** are the different components of the plot. They are the way we want to visualise the data.\n",
    "- **Scales** are the way we want to visualise the data.\n",
    "- **Guides** are the way we want to visualise the data.\n",
    "\n",
    "If you ever programmed in R, you probably learned about the [ggplot2](https://ggplot2.tidyverse.org/) library, that implements the Grammar of Graphics. \n",
    "\n",
    "👉 In Python, two main libraries implement the Grammar of Graphics: [plotnine](https://plotnine.readthedocs.io/en/stable/) and [Altair](https://altair-viz.github.io/). You will learn about them in the labs!"
   ]
  },
  {
   "cell_type": "markdown",
   "metadata": {},
   "source": [
    "---\n",
    "\n",
    "**Generative AI acknowledgement**\n",
    "\n",
    "I wrote this notebook on VSCode with GitHub Copilot and Grammarly extensions activated. What does this mean?\n",
    "\n",
    "- When writing text, I let Copilot autocomplete most sentences for me, but I constantly needed to go back and rephrase things. I had to cut a lot of text to counteract Copilot's tendency towards repetition (_'This means that Copilot repeats a lot, by simply repeating the same concepts over and over again, thus re-stating the same concepts in different ways.'_). I also edited it to make it more like 'my voice', if that makes sense.\n",
    "- After writing a paragraph, I would wait for Grammarly to trigger and highlight any mistakes, typos or automatic rephrasing suggestions. If I liked them, I would go ahead and accept them. If I didn't, I would ignore them. \n",
    "- For code, I usually add a line with Python comments (starting with `#`) explaining what I want to do next. Then, I let Copilot autocomplete the code. I run the code to check it does what I want, but I commonly go back and edit it to make it more concise – I find the code produced by Copilot to be too lengthy and unnecessarily complex sometimes."
   ]
  }
 ],
 "metadata": {
  "kernelspec": {
   "display_name": "base",
   "language": "python",
   "name": "python3"
  },
  "language_info": {
   "codemirror_mode": {
    "name": "ipython",
    "version": 3
   },
   "file_extension": ".py",
   "mimetype": "text/x-python",
   "name": "python",
   "nbconvert_exporter": "python",
   "pygments_lexer": "ipython3",
   "version": "3.10.8"
  }
 },
 "nbformat": 4,
 "nbformat_minor": 2
}
